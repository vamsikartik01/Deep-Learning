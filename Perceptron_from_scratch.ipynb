{
  "nbformat": 4,
  "nbformat_minor": 0,
  "metadata": {
    "colab": {
      "name": "Perceptron_from_scratch.ipynb",
      "provenance": [],
      "collapsed_sections": [],
      "authorship_tag": "ABX9TyPA0pVdBO4RRRtoWy0R90xd",
      "include_colab_link": true
    },
    "kernelspec": {
      "name": "python3",
      "display_name": "Python 3"
    }
  },
  "cells": [
    {
      "cell_type": "markdown",
      "metadata": {
        "id": "view-in-github",
        "colab_type": "text"
      },
      "source": [
        "<a href=\"https://colab.research.google.com/github/vamsikartik01/Deep-Learning/blob/main/Perceptron_from_scratch.ipynb\" target=\"_parent\"><img src=\"https://colab.research.google.com/assets/colab-badge.svg\" alt=\"Open In Colab\"/></a>"
      ]
    },
    {
      "cell_type": "markdown",
      "metadata": {
        "id": "2tSZ_7exAUbT"
      },
      "source": [
        "# A Perceptron is a neural network with only one neuron"
      ]
    },
    {
      "cell_type": "code",
      "metadata": {
        "id": "-PCxB_78tRZm"
      },
      "source": [
        "import numpy as np\r\n",
        "import matplotlib.pyplot as plt\r\n"
      ],
      "execution_count": 2,
      "outputs": []
    },
    {
      "cell_type": "markdown",
      "metadata": {
        "id": "CJ6iQdg-tsI8"
      },
      "source": [
        "Input Array"
      ]
    },
    {
      "cell_type": "code",
      "metadata": {
        "colab": {
          "base_uri": "https://localhost:8080/"
        },
        "id": "nCHwWa8GtWbK",
        "outputId": "e34db4bc-17b8-4981-90aa-1f83fd4a1e3c"
      },
      "source": [
        "X = np.array([[1,0,0,0],[1,0,1,1],[0,1,0,1]])\r\n",
        "print(\"X: \\n\",X)\r\n",
        "print(X.shape)"
      ],
      "execution_count": 5,
      "outputs": [
        {
          "output_type": "stream",
          "text": [
            "X: \n",
            " [[1 0 0 0]\n",
            " [1 0 1 1]\n",
            " [0 1 0 1]]\n",
            "(3, 4)\n"
          ],
          "name": "stdout"
        }
      ]
    },
    {
      "cell_type": "code",
      "metadata": {
        "colab": {
          "base_uri": "https://localhost:8080/"
        },
        "id": "pvplELuYt8rk",
        "outputId": "b8a62e11-92b0-4b4c-bdf5-add56b7e9550"
      },
      "source": [
        "X = X.T\r\n",
        "print(X)\r\n",
        "print(X.shape)"
      ],
      "execution_count": 8,
      "outputs": [
        {
          "output_type": "stream",
          "text": [
            "[[1 1 0]\n",
            " [0 0 1]\n",
            " [0 1 0]\n",
            " [0 1 1]]\n",
            "(4, 3)\n"
          ],
          "name": "stdout"
        }
      ]
    },
    {
      "cell_type": "code",
      "metadata": {
        "colab": {
          "base_uri": "https://localhost:8080/"
        },
        "id": "q9JOpnsGul3r",
        "outputId": "9cf108fa-9a0d-42b7-d516-7ce8fdc9efd5"
      },
      "source": [
        "Y = np.array([[1],[1],[0]])\r\n",
        "print(Y)\r\n",
        "print(Y.shape)"
      ],
      "execution_count": 11,
      "outputs": [
        {
          "output_type": "stream",
          "text": [
            "[[1]\n",
            " [1]\n",
            " [0]]\n",
            "(3, 1)\n"
          ],
          "name": "stdout"
        }
      ]
    },
    {
      "cell_type": "code",
      "metadata": {
        "colab": {
          "base_uri": "https://localhost:8080/"
        },
        "id": "ttDlVQTivItr",
        "outputId": "a399f6fa-d876-4f28-be82-5157c2198f37"
      },
      "source": [
        "Y = Y.T\r\n",
        "print(Y)\r\n",
        "print(Y.shape)"
      ],
      "execution_count": 12,
      "outputs": [
        {
          "output_type": "stream",
          "text": [
            "[[1 1 0]]\n",
            "(1, 3)\n"
          ],
          "name": "stdout"
        }
      ]
    },
    {
      "cell_type": "code",
      "metadata": {
        "id": "fxcW5TuivfGB"
      },
      "source": [
        "input_layer = X.shape[0]\r\n",
        "output_layer = 1"
      ],
      "execution_count": 51,
      "outputs": []
    },
    {
      "cell_type": "code",
      "metadata": {
        "id": "PfJRmm3EwPTZ"
      },
      "source": [
        "w = np.random.uniform(size=(input_layer,output_layer))"
      ],
      "execution_count": 91,
      "outputs": []
    },
    {
      "cell_type": "code",
      "metadata": {
        "id": "Hl6N7Pee-NJi"
      },
      "source": [
        "b = np.random.uniform(size=(1,output_layer)) "
      ],
      "execution_count": 92,
      "outputs": []
    },
    {
      "cell_type": "code",
      "metadata": {
        "colab": {
          "base_uri": "https://localhost:8080/"
        },
        "id": "Uw48kH19w5zW",
        "outputId": "73d7b58c-f92f-4c69-a1ea-15627cc5320f"
      },
      "source": [
        "w1.shape"
      ],
      "execution_count": 55,
      "outputs": [
        {
          "output_type": "execute_result",
          "data": {
            "text/plain": [
              "(4, 1)"
            ]
          },
          "metadata": {
            "tags": []
          },
          "execution_count": 55
        }
      ]
    },
    {
      "cell_type": "code",
      "metadata": {
        "id": "1LrUXUyGxCLf"
      },
      "source": [
        "def sigmoid(z):\r\n",
        "  return(1/(1+np.exp(-z)))"
      ],
      "execution_count": 18,
      "outputs": []
    },
    {
      "cell_type": "code",
      "metadata": {
        "id": "KXKHxF_HzxvH"
      },
      "source": [
        "def sigmoid_derv(z):\r\n",
        "  return(z*(1-z))"
      ],
      "execution_count": 36,
      "outputs": []
    },
    {
      "cell_type": "code",
      "metadata": {
        "id": "O-UAStQ1978t"
      },
      "source": [
        "epochs = 5000\r\n",
        "lr = 0.1"
      ],
      "execution_count": 90,
      "outputs": []
    },
    {
      "cell_type": "code",
      "metadata": {
        "id": "3PYxLruM23xG"
      },
      "source": [
        "costs = []\r\n",
        "for i in range(epochs):\r\n",
        "  m = X.shape[1]\r\n",
        "  A = sigmoid(np.dot(w.T,X)+b)\r\n",
        "  cost =-(1/m)*(np.sum(Y*np.log(A)+(1-Y)*np.log(1-A)))\r\n",
        "  costs.append(cost)\r\n",
        "  dw = (1/m)*np.dot(X,(A-Y).T)\r\n",
        "  db = (1/m)*np.sum(A-Y)\r\n",
        "\r\n",
        "  w = w - lr*dw\r\n",
        "  b = b - lr*db"
      ],
      "execution_count": 93,
      "outputs": []
    },
    {
      "cell_type": "code",
      "metadata": {
        "colab": {
          "base_uri": "https://localhost:8080/"
        },
        "id": "fFXgXbys_TQu",
        "outputId": "2e84f2e2-e829-4ac9-b7a7-00dbd9533592"
      },
      "source": [
        "w,b"
      ],
      "execution_count": 94,
      "outputs": [
        {
          "output_type": "execute_result",
          "data": {
            "text/plain": [
              "(array([[ 5.44797086],\n",
              "        [-3.92476769],\n",
              "        [ 2.09640085],\n",
              "        [-1.81422099]]), array([[0.35117069]]))"
            ]
          },
          "metadata": {
            "tags": []
          },
          "execution_count": 94
        }
      ]
    },
    {
      "cell_type": "code",
      "metadata": {
        "id": "MKc0XTfU_mU7"
      },
      "source": [
        "def predict(X):\r\n",
        "  A = sigmoid(np.dot(w.T,X)+b)\r\n",
        "  preds = A\r\n",
        "  preds = (A > 0.5) * 1\r\n",
        "  return preds"
      ],
      "execution_count": 86,
      "outputs": []
    },
    {
      "cell_type": "code",
      "metadata": {
        "colab": {
          "base_uri": "https://localhost:8080/"
        },
        "id": "NuEFVMIs_qyT",
        "outputId": "02dcbd42-4fa6-4e31-fdc8-50689c7bcf45"
      },
      "source": [
        "Y"
      ],
      "execution_count": 76,
      "outputs": [
        {
          "output_type": "execute_result",
          "data": {
            "text/plain": [
              "array([[1, 1, 0]])"
            ]
          },
          "metadata": {
            "tags": []
          },
          "execution_count": 76
        }
      ]
    },
    {
      "cell_type": "code",
      "metadata": {
        "colab": {
          "base_uri": "https://localhost:8080/"
        },
        "id": "7_P4z7dP_raV",
        "outputId": "d32273e2-6f89-4281-d654-2b84b8f4f1cc"
      },
      "source": [
        "predict(X)"
      ],
      "execution_count": 95,
      "outputs": [
        {
          "output_type": "execute_result",
          "data": {
            "text/plain": [
              "array([[1, 1, 0]])"
            ]
          },
          "metadata": {
            "tags": []
          },
          "execution_count": 95
        }
      ]
    },
    {
      "cell_type": "code",
      "metadata": {
        "colab": {
          "base_uri": "https://localhost:8080/"
        },
        "id": "Rn2xkjtjA0Dl",
        "outputId": "2b21a0f8-4705-4f3f-d7fe-cf4241c2c96c"
      },
      "source": [
        "r = np.array([[0,1,0,1]])\r\n",
        "r = r.T\r\n",
        "predict(r)"
      ],
      "execution_count": 96,
      "outputs": [
        {
          "output_type": "execute_result",
          "data": {
            "text/plain": [
              "array([[0]])"
            ]
          },
          "metadata": {
            "tags": []
          },
          "execution_count": 96
        }
      ]
    },
    {
      "cell_type": "code",
      "metadata": {
        "colab": {
          "base_uri": "https://localhost:8080/",
          "height": 295
        },
        "id": "ThNvKQnNEOIw",
        "outputId": "60c97d56-2bb1-46fd-ce53-76a31804be66"
      },
      "source": [
        "plt.plot(costs)\r\n",
        "plt.ylabel('cost')\r\n",
        "plt.xlabel('iterations (per hundreds)')\r\n",
        "plt.title(\"Learning rate\")\r\n",
        "plt.show()"
      ],
      "execution_count": 97,
      "outputs": [
        {
          "output_type": "display_data",
          "data": {
            "image/png": "[encoded data removed]",
            "text/plain": [
              "<Figure size 432x288 with 1 Axes>"
            ]
          },
          "metadata": {
            "tags": [],
            "needs_background": "light"
          }
        }
      ]
    },
    {
      "cell_type": "code",
      "metadata": {
        "id": "k3q0jR-gEOqV"
      },
      "source": [
        ""
      ],
      "execution_count": null,
      "outputs": []
    }
  ]
}