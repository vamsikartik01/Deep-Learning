{
  "nbformat": 4,
  "nbformat_minor": 0,
  "metadata": {
    "colab": {
      "name": "neural_net_from_scratch.ipynb",
      "provenance": [],
      "authorship_tag": "ABX9TyMwZpWfV3fBdHM9I4qwDjYS",
      "include_colab_link": true
    },
    "kernelspec": {
      "name": "python3",
      "display_name": "Python 3"
    }
  },
  "cells": [
    {
      "cell_type": "markdown",
      "metadata": {
        "id": "view-in-github",
        "colab_type": "text"
      },
      "source": [
        "<a href=\"https://colab.research.google.com/github/vamsikartik01/Deep-Learning/blob/main/neural_net_from_scratch.ipynb\" target=\"_parent\"><img src=\"https://colab.research.google.com/assets/colab-badge.svg\" alt=\"Open In Colab\"/></a>"
      ]
    },
    {
      "cell_type": "markdown",
      "metadata": {
        "id": "Ivm2bIDGxDrW"
      },
      "source": [
        "# Neural Net with one hidden layer - 4 input logic."
      ]
    },
    {
      "cell_type": "code",
      "metadata": {
        "id": "jrkCCYIKoRSh"
      },
      "source": [
        "import numpy as np\r\n",
        "import matplotlib.pyplot as plt"
      ],
      "execution_count": 1,
      "outputs": []
    },
    {
      "cell_type": "code",
      "metadata": {
        "colab": {
          "base_uri": "https://localhost:8080/"
        },
        "id": "b7OaPWFHoa0_",
        "outputId": "c945fc1c-1a72-42ba-d016-5e29aa1ac460"
      },
      "source": [
        "X = np.array([[0,0,0,0],[0,0,0,1],[0,0,1,0],[0,1,0,0],[0,1,1,0],[1,1,1,0],[1,1,0,1],[1,0,1,1],[0,1,1,1],[1,1,1,1],[0,0,1,1],[1,1,0,0]])\r\n",
        "X"
      ],
      "execution_count": 58,
      "outputs": [
        {
          "output_type": "execute_result",
          "data": {
            "text/plain": [
              "array([[0, 0, 0, 0],\n",
              "       [0, 0, 0, 1],\n",
              "       [0, 0, 1, 0],\n",
              "       [0, 1, 0, 0],\n",
              "       [0, 1, 1, 0],\n",
              "       [1, 1, 1, 0],\n",
              "       [1, 1, 0, 1],\n",
              "       [1, 0, 1, 1],\n",
              "       [0, 1, 1, 1],\n",
              "       [1, 1, 1, 1],\n",
              "       [0, 0, 1, 1],\n",
              "       [1, 1, 0, 0]])"
            ]
          },
          "metadata": {
            "tags": []
          },
          "execution_count": 58
        }
      ]
    },
    {
      "cell_type": "code",
      "metadata": {
        "colab": {
          "base_uri": "https://localhost:8080/"
        },
        "id": "vGMM5-SHpw9z",
        "outputId": "a2289253-a3b2-420f-f82e-04621331ad85"
      },
      "source": [
        "X = X.T\r\n",
        "X"
      ],
      "execution_count": 59,
      "outputs": [
        {
          "output_type": "execute_result",
          "data": {
            "text/plain": [
              "array([[0, 0, 0, 0, 0, 1, 1, 1, 0, 1, 0, 1],\n",
              "       [0, 0, 0, 1, 1, 1, 1, 0, 1, 1, 0, 1],\n",
              "       [0, 0, 1, 0, 1, 1, 0, 1, 1, 1, 1, 0],\n",
              "       [0, 1, 0, 0, 0, 0, 1, 1, 1, 1, 1, 0]])"
            ]
          },
          "metadata": {
            "tags": []
          },
          "execution_count": 59
        }
      ]
    },
    {
      "cell_type": "code",
      "metadata": {
        "colab": {
          "base_uri": "https://localhost:8080/"
        },
        "id": "C7HQG_P-qPsW",
        "outputId": "6d32491a-20b8-42eb-a114-e5d2f0afe352"
      },
      "source": [
        "X.shape"
      ],
      "execution_count": 60,
      "outputs": [
        {
          "output_type": "execute_result",
          "data": {
            "text/plain": [
              "(4, 12)"
            ]
          },
          "metadata": {
            "tags": []
          },
          "execution_count": 60
        }
      ]
    },
    {
      "cell_type": "code",
      "metadata": {
        "colab": {
          "base_uri": "https://localhost:8080/"
        },
        "id": "MZkLm0whp1id",
        "outputId": "56f2d407-75e7-4480-ce02-4a2b5a760be4"
      },
      "source": [
        "Y = np.array([[0],[0],[0],[0],[1],[1],[1],[1],[1],[1],[0],[0]])\r\n",
        "Y"
      ],
      "execution_count": 61,
      "outputs": [
        {
          "output_type": "execute_result",
          "data": {
            "text/plain": [
              "array([[0],\n",
              "       [0],\n",
              "       [0],\n",
              "       [0],\n",
              "       [1],\n",
              "       [1],\n",
              "       [1],\n",
              "       [1],\n",
              "       [1],\n",
              "       [1],\n",
              "       [0],\n",
              "       [0]])"
            ]
          },
          "metadata": {
            "tags": []
          },
          "execution_count": 61
        }
      ]
    },
    {
      "cell_type": "code",
      "metadata": {
        "colab": {
          "base_uri": "https://localhost:8080/"
        },
        "id": "J-1rY-GfqFjv",
        "outputId": "54725d3e-f649-407b-c174-8794cea93077"
      },
      "source": [
        "Y = Y.T\r\n",
        "Y"
      ],
      "execution_count": 62,
      "outputs": [
        {
          "output_type": "execute_result",
          "data": {
            "text/plain": [
              "array([[0, 0, 0, 0, 1, 1, 1, 1, 1, 1, 0, 0]])"
            ]
          },
          "metadata": {
            "tags": []
          },
          "execution_count": 62
        }
      ]
    },
    {
      "cell_type": "code",
      "metadata": {
        "colab": {
          "base_uri": "https://localhost:8080/"
        },
        "id": "SW7Nuteuqapp",
        "outputId": "6b73ab88-4201-45ac-a2c2-5a1db17c893a"
      },
      "source": [
        "Y.shape"
      ],
      "execution_count": 63,
      "outputs": [
        {
          "output_type": "execute_result",
          "data": {
            "text/plain": [
              "(1, 12)"
            ]
          },
          "metadata": {
            "tags": []
          },
          "execution_count": 63
        }
      ]
    },
    {
      "cell_type": "code",
      "metadata": {
        "id": "Zjvu80CbqH5O"
      },
      "source": [
        "n_i = X.shape[0]\r\n",
        "n_h = 3\r\n",
        "n_o = Y.shape[0]"
      ],
      "execution_count": 64,
      "outputs": []
    },
    {
      "cell_type": "code",
      "metadata": {
        "id": "TvoC8tTIqdtm"
      },
      "source": [
        "w1 = np.random.uniform(size=(n_i,n_h))\r\n",
        "b1 = np.random.uniform(size=(n_h,1))\r\n",
        "w2 = np.random.uniform(size=(n_h,n_o))\r\n",
        "b2 = np.random.uniform(size=(n_o,1))"
      ],
      "execution_count": 65,
      "outputs": []
    },
    {
      "cell_type": "code",
      "metadata": {
        "colab": {
          "base_uri": "https://localhost:8080/"
        },
        "id": "YOX9JE8Wq6oF",
        "outputId": "9d2ea84c-56c8-4211-e86a-96e8ecf8a63c"
      },
      "source": [
        "print(w1.shape)\r\n",
        "print(b1.shape)\r\n",
        "print(w2.shape)\r\n",
        "print(b2.shape)"
      ],
      "execution_count": 66,
      "outputs": [
        {
          "output_type": "stream",
          "text": [
            "(4, 3)\n",
            "(3, 1)\n",
            "(3, 1)\n",
            "(1, 1)\n"
          ],
          "name": "stdout"
        }
      ]
    },
    {
      "cell_type": "code",
      "metadata": {
        "id": "_47vmkPMrD4H"
      },
      "source": [
        "def sigmoid(z):\r\n",
        "  return (1/(1+np.exp(-z)))"
      ],
      "execution_count": 67,
      "outputs": []
    },
    {
      "cell_type": "code",
      "metadata": {
        "id": "36xoXHZ3rP_P"
      },
      "source": [
        "epochs = 5000\r\n",
        "lr =0.1"
      ],
      "execution_count": 68,
      "outputs": []
    },
    {
      "cell_type": "code",
      "metadata": {
        "id": "WquIB0_OrbLE"
      },
      "source": [
        "costs = []\r\n",
        "for epoch in range(epochs):\r\n",
        "  m = X.shape[1]\r\n",
        "  Yh = np.tanh(np.dot(w1.T,X)+b1)\r\n",
        "  A = sigmoid(np.dot(w2.T,Yh)+b2)\r\n",
        "\r\n",
        "  cost = (-1/m)*np.sum(Y*np.log(A)+(1-Y)*np.log(1-A))\r\n",
        "  costs.append(cost)\r\n",
        "\r\n",
        "  dw2 = (1/m)*np.dot(Yh,(A-Y).T)\r\n",
        "  db2 = (1/m)*np.sum(A-Y)\r\n",
        "  dh = np.dot(w2.T,(A-Y)*(1-Yh**2))\r\n",
        "  dw1 = (1/m)*np.dot(X,dh.T)\r\n",
        "  db1 = (1/m)*np.sum(dh)\r\n",
        "\r\n",
        "  w1 = w1 - lr*dw1\r\n",
        "  b1 = b1 - lr*db1\r\n",
        "  w2 = w2 - lr*dw2\r\n",
        "  b2 = b2 - lr*db2"
      ],
      "execution_count": 69,
      "outputs": []
    },
    {
      "cell_type": "code",
      "metadata": {
        "colab": {
          "base_uri": "https://localhost:8080/"
        },
        "id": "HFPhLi-Oterx",
        "outputId": "101fd836-5d01-4ebe-e930-bfad3213d824"
      },
      "source": [
        "w1,w2,b1,b2"
      ],
      "execution_count": 70,
      "outputs": [
        {
          "output_type": "execute_result",
          "data": {
            "text/plain": [
              "(array([[1.17335063, 0.82592163, 1.60774617],\n",
              "        [2.43354554, 2.38670435, 2.57593174],\n",
              "        [2.48568905, 2.537209  , 2.16522968],\n",
              "        [1.40099885, 0.9190949 , 1.61707785]]), array([[3.58153932],\n",
              "        [3.37623257],\n",
              "        [3.84686125]]), array([[-4.12372118],\n",
              "        [-4.20458085],\n",
              "        [-4.36329408]]), array([[-0.2361304]]))"
            ]
          },
          "metadata": {
            "tags": []
          },
          "execution_count": 70
        }
      ]
    },
    {
      "cell_type": "code",
      "metadata": {
        "id": "z3h6KjupvCJn"
      },
      "source": [
        "def predict(X):\r\n",
        "  Yh = np.tanh(np.dot(w1.T,X)+b1)\r\n",
        "  A = sigmoid(np.dot(w2.T,Yh)+b2)\r\n",
        "  A = (A > 0.5) * 1\r\n",
        "  return A"
      ],
      "execution_count": 71,
      "outputs": []
    },
    {
      "cell_type": "code",
      "metadata": {
        "colab": {
          "base_uri": "https://localhost:8080/"
        },
        "id": "DJCJsS6evN4V",
        "outputId": "bcb064ce-3df3-45e8-f8b4-5bbada320ebd"
      },
      "source": [
        "predict(X)"
      ],
      "execution_count": 72,
      "outputs": [
        {
          "output_type": "execute_result",
          "data": {
            "text/plain": [
              "array([[0, 0, 0, 0, 1, 1, 1, 1, 1, 1, 0, 0]])"
            ]
          },
          "metadata": {
            "tags": []
          },
          "execution_count": 72
        }
      ]
    },
    {
      "cell_type": "code",
      "metadata": {
        "colab": {
          "base_uri": "https://localhost:8080/"
        },
        "id": "1TPywuq0vPjJ",
        "outputId": "0af0a645-469f-43f2-db19-1aa9fc9466f7"
      },
      "source": [
        "Y"
      ],
      "execution_count": 74,
      "outputs": [
        {
          "output_type": "execute_result",
          "data": {
            "text/plain": [
              "array([[0, 0, 0, 0, 1, 1, 1, 1, 1, 1, 0, 0]])"
            ]
          },
          "metadata": {
            "tags": []
          },
          "execution_count": 74
        }
      ]
    },
    {
      "cell_type": "code",
      "metadata": {
        "colab": {
          "base_uri": "https://localhost:8080/"
        },
        "id": "Nyyt349uvRNs",
        "outputId": "b46e78a1-6d86-4f85-da11-6d347404c2d8"
      },
      "source": [
        "arr = np.array([[1,1,0,0]])\r\n",
        "arr = arr.T\r\n",
        "predict(arr)"
      ],
      "execution_count": 73,
      "outputs": [
        {
          "output_type": "execute_result",
          "data": {
            "text/plain": [
              "array([[0]])"
            ]
          },
          "metadata": {
            "tags": []
          },
          "execution_count": 73
        }
      ]
    },
    {
      "cell_type": "code",
      "metadata": {
        "colab": {
          "base_uri": "https://localhost:8080/",
          "height": 295
        },
        "id": "VI_psrG-vwED",
        "outputId": "61e54edf-ec1d-411e-8e57-6b9a8dbadfe0"
      },
      "source": [
        "plt.plot(costs)\r\n",
        "plt.xlabel('No. of Iterations')\r\n",
        "plt.ylabel('Cost')\r\n",
        "plt.title('Loss')\r\n",
        "plt.show()"
      ],
      "execution_count": 77,
      "outputs": [
        {
          "output_type": "display_data",
          "data": {
            "image/png": "[encoded data removed]",
            "text/plain": [
              "<Figure size 432x288 with 1 Axes>"
            ]
          },
          "metadata": {
            "tags": [],
            "needs_background": "light"
          }
        }
      ]
    },
    {
      "cell_type": "code",
      "metadata": {
        "id": "4cXXBr87xdx0"
      },
      "source": [
        ""
      ],
      "execution_count": null,
      "outputs": []
    }
  ]
}