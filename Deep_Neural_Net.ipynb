{
  "nbformat": 4,
  "nbformat_minor": 0,
  "metadata": {
    "colab": {
      "name": "Deep-Neural-Net.ipynb",
      "provenance": [],
      "collapsed_sections": [],
      "authorship_tag": "ABX9TyOddcbVZcQ+nOp0HtauykXh",
      "include_colab_link": true
    },
    "kernelspec": {
      "name": "python3",
      "display_name": "Python 3"
    }
  },
  "cells": [
    {
      "cell_type": "markdown",
      "metadata": {
        "id": "view-in-github",
        "colab_type": "text"
      },
      "source": [
        "<a href=\"https://colab.research.google.com/github/vamsikartik01/Deep-Learning/blob/main/Deep_Neural_Net.ipynb\" target=\"_parent\"><img src=\"https://colab.research.google.com/assets/colab-badge.svg\" alt=\"Open In Colab\"/></a>"
      ]
    },
    {
      "cell_type": "code",
      "metadata": {
        "id": "exqfHfU8j7lo"
      },
      "source": [
        "import numpy as np\r\n",
        "import matplotlib.pyplot as plt"
      ],
      "execution_count": 3,
      "outputs": []
    },
    {
      "cell_type": "code",
      "metadata": {
        "colab": {
          "base_uri": "https://localhost:8080/"
        },
        "id": "9Ksp6lBBkNmC",
        "outputId": "50749523-f6b2-4a3e-813f-ddbc63a7d9e5"
      },
      "source": [
        "img1 = np.array([200]*64*3)\r\n",
        "img1 = img1.reshape(8,8,3)\r\n",
        "img1.shape"
      ],
      "execution_count": 4,
      "outputs": [
        {
          "output_type": "execute_result",
          "data": {
            "text/plain": [
              "(8, 8, 3)"
            ]
          },
          "metadata": {
            "tags": []
          },
          "execution_count": 4
        }
      ]
    },
    {
      "cell_type": "code",
      "metadata": {
        "colab": {
          "base_uri": "https://localhost:8080/",
          "height": 283
        },
        "id": "GGH7hz5OkZZG",
        "outputId": "0b090be4-dcc7-4d74-af2f-55fae4ac9e21"
      },
      "source": [
        "plt.imshow(img1)"
      ],
      "execution_count": null,
      "outputs": [
        {
          "output_type": "execute_result",
          "data": {
            "text/plain": [
              "<matplotlib.image.AxesImage at 0x7ff61f324be0>"
            ]
          },
          "metadata": {
            "tags": []
          },
          "execution_count": 51
        },
        {
          "output_type": "display_data",
          "data": {
            "image/png": "[encoded data removed]",
            "text/plain": [
              "<Figure size 432x288 with 1 Axes>"
            ]
          },
          "metadata": {
            "tags": [],
            "needs_background": "light"
          }
        }
      ]
    },
    {
      "cell_type": "code",
      "metadata": {
        "id": "k4SYk4wwkzRG",
        "colab": {
          "base_uri": "https://localhost:8080/"
        },
        "outputId": "8413a5bf-6178-438b-e706-c0b703329837"
      },
      "source": [
        "X = np.array([[0,0,0,0],[0,0,0,1],[0,0,1,0],[0,1,0,0],[0,1,1,0],[1,1,1,0],[1,1,0,1],[1,0,1,1],[0,1,1,1],[1,1,1,1],[0,0,1,1],[1,1,0,0]])\r\n",
        "X = X.T\r\n",
        "X"
      ],
      "execution_count": 6,
      "outputs": [
        {
          "output_type": "execute_result",
          "data": {
            "text/plain": [
              "array([[0, 0, 0, 0, 0, 1, 1, 1, 0, 1, 0, 1],\n",
              "       [0, 0, 0, 1, 1, 1, 1, 0, 1, 1, 0, 1],\n",
              "       [0, 0, 1, 0, 1, 1, 0, 1, 1, 1, 1, 0],\n",
              "       [0, 1, 0, 0, 0, 0, 1, 1, 1, 1, 1, 0]])"
            ]
          },
          "metadata": {
            "tags": []
          },
          "execution_count": 6
        }
      ]
    },
    {
      "cell_type": "code",
      "metadata": {
        "colab": {
          "base_uri": "https://localhost:8080/"
        },
        "id": "23RYuLSFmygR",
        "outputId": "530e1df6-d2ae-49b8-eb30-06c662f7fd2f"
      },
      "source": [
        "Y = np.array([[0],[0],[0],[0],[1],[1],[1],[1],[1],[1],[0],[0]])\r\n",
        "Y = Y.T\r\n",
        "Y"
      ],
      "execution_count": 8,
      "outputs": [
        {
          "output_type": "execute_result",
          "data": {
            "text/plain": [
              "array([[0, 0, 0, 0, 1, 1, 1, 1, 1, 1, 0, 0]])"
            ]
          },
          "metadata": {
            "tags": []
          },
          "execution_count": 8
        }
      ]
    },
    {
      "cell_type": "code",
      "metadata": {
        "colab": {
          "base_uri": "https://localhost:8080/"
        },
        "id": "0dYPCQiImzQg",
        "outputId": "82fdb31d-a344-4dfa-f698-d5867cabf491"
      },
      "source": [
        "X.shape"
      ],
      "execution_count": 9,
      "outputs": [
        {
          "output_type": "execute_result",
          "data": {
            "text/plain": [
              "(4, 12)"
            ]
          },
          "metadata": {
            "tags": []
          },
          "execution_count": 9
        }
      ]
    },
    {
      "cell_type": "code",
      "metadata": {
        "colab": {
          "base_uri": "https://localhost:8080/"
        },
        "id": "-gkVIfj8nFPB",
        "outputId": "1700620d-7083-45c5-e0e7-e6adc79d5415"
      },
      "source": [
        "X.shape"
      ],
      "execution_count": 10,
      "outputs": [
        {
          "output_type": "execute_result",
          "data": {
            "text/plain": [
              "(4, 12)"
            ]
          },
          "metadata": {
            "tags": []
          },
          "execution_count": 10
        }
      ]
    },
    {
      "cell_type": "code",
      "metadata": {
        "colab": {
          "base_uri": "https://localhost:8080/"
        },
        "id": "EMtg43ASoZOA",
        "outputId": "0cc215f7-7705-4a5b-ffb8-2563c6295b55"
      },
      "source": [
        "Y.shape"
      ],
      "execution_count": 11,
      "outputs": [
        {
          "output_type": "execute_result",
          "data": {
            "text/plain": [
              "(1, 12)"
            ]
          },
          "metadata": {
            "tags": []
          },
          "execution_count": 11
        }
      ]
    },
    {
      "cell_type": "code",
      "metadata": {
        "id": "g8g3HyIaogQH"
      },
      "source": [
        "n_i = X.shape[0]\r\n",
        "n_h1 = 4\r\n",
        "n_h2 = 3\r\n",
        "n_h3 = 2\r\n",
        "n_o = Y.shape[0]"
      ],
      "execution_count": 12,
      "outputs": []
    },
    {
      "cell_type": "code",
      "metadata": {
        "id": "Pbsc3YxGo4vD"
      },
      "source": [
        "w1 = np.random.uniform(size=(n_h1,n_i))\r\n",
        "b1 = np.random.uniform(size=(n_h1,1))\r\n",
        "w2 = np.random.uniform(size=(n_h2,n_h1))\r\n",
        "b2 = np.random.uniform(size=(n_h2,1))\r\n",
        "w3 = np.random.uniform(size=(n_h3,n_h2))\r\n",
        "b3 = np.random.uniform(size=(n_h3,1))\r\n",
        "w4 = np.random.uniform(size=(n_o,n_h3))\r\n",
        "b4 = np.random.uniform(size=(n_o,1))"
      ],
      "execution_count": 26,
      "outputs": []
    },
    {
      "cell_type": "code",
      "metadata": {
        "colab": {
          "base_uri": "https://localhost:8080/"
        },
        "id": "aOWS8ingpm5X",
        "outputId": "d69c3128-d568-4d3b-a913-4e39ed62c1a6"
      },
      "source": [
        "w1.shape,b1.shape"
      ],
      "execution_count": 14,
      "outputs": [
        {
          "output_type": "execute_result",
          "data": {
            "text/plain": [
              "((4, 4), (4, 1))"
            ]
          },
          "metadata": {
            "tags": []
          },
          "execution_count": 14
        }
      ]
    },
    {
      "cell_type": "code",
      "metadata": {
        "colab": {
          "base_uri": "https://localhost:8080/"
        },
        "id": "NUfp7-jtpzNi",
        "outputId": "ab18ecfc-d546-4eec-b29c-75ebe50f3edc"
      },
      "source": [
        "w2.shape,b2.shape"
      ],
      "execution_count": 15,
      "outputs": [
        {
          "output_type": "execute_result",
          "data": {
            "text/plain": [
              "((3, 4), (3, 1))"
            ]
          },
          "metadata": {
            "tags": []
          },
          "execution_count": 15
        }
      ]
    },
    {
      "cell_type": "code",
      "metadata": {
        "colab": {
          "base_uri": "https://localhost:8080/"
        },
        "id": "fqNPm_8Np199",
        "outputId": "c964c8b9-fdf9-45e7-a638-4ecf36b7500f"
      },
      "source": [
        "w3.shape,b3.shape"
      ],
      "execution_count": 16,
      "outputs": [
        {
          "output_type": "execute_result",
          "data": {
            "text/plain": [
              "((2, 3), (2, 1))"
            ]
          },
          "metadata": {
            "tags": []
          },
          "execution_count": 16
        }
      ]
    },
    {
      "cell_type": "code",
      "metadata": {
        "colab": {
          "base_uri": "https://localhost:8080/"
        },
        "id": "Hp2nEMpUp3_b",
        "outputId": "d436ae94-2b93-4855-e80c-6ef818851ffb"
      },
      "source": [
        "w4.shape,b4.shape"
      ],
      "execution_count": 17,
      "outputs": [
        {
          "output_type": "execute_result",
          "data": {
            "text/plain": [
              "((1, 2), (1, 1))"
            ]
          },
          "metadata": {
            "tags": []
          },
          "execution_count": 17
        }
      ]
    },
    {
      "cell_type": "code",
      "metadata": {
        "id": "Fqc8_5XIp6p9"
      },
      "source": [
        "def sigmoid(z):\r\n",
        "  return(1/(1+np.exp(-z)))"
      ],
      "execution_count": 18,
      "outputs": []
    },
    {
      "cell_type": "code",
      "metadata": {
        "id": "9cxIooKCqDcm"
      },
      "source": [
        "epochs = 5000\r\n",
        "lr = 0.05"
      ],
      "execution_count": 25,
      "outputs": []
    },
    {
      "cell_type": "code",
      "metadata": {
        "id": "H7uGnuvdqG8n"
      },
      "source": [
        "costs = []\r\n",
        "for epoch in range(epochs):\r\n",
        "  m = X.shape[1]\r\n",
        "  ## Forward Propagation\r\n",
        "  Yh1 = np.tanh(np.dot(w1,X)+b1)\r\n",
        "  Yh2 = np.tanh(np.dot(w2,Yh1)+b2)\r\n",
        "  Yh3 = np.tanh(np.dot(w3,Yh2)+b3)\r\n",
        "  A = sigmoid(np.dot(w4,Yh3)+b4)\r\n",
        "\r\n",
        "  ## Cost Function\r\n",
        "  cost = (-1/m)*np.sum(Y*np.log(A)+(1-Y)*np.log(1-A))\r\n",
        "  costs.append(cost)\r\n",
        "\r\n",
        "  ## Back Propagation\r\n",
        "  dZ = A-Y\r\n",
        "  dw4 = (1/m)*np.dot(dZ,Yh3.T)\r\n",
        "  db4 = (1/m)*np.sum(dZ, axis=1, keepdims=True)\r\n",
        "  dYh3 = np.multiply(np.dot(w4.T,dZ),1-np.power(Yh3,2))\r\n",
        "  dw3 = (1/m)*np.dot(dYh3,Yh2.T)\r\n",
        "  db3 = (1/m)*np.sum(dYh3, axis=1, keepdims=True)\r\n",
        "  dYh2 = np.multiply(np.dot(w3.T,dYh3),1-np.power(Yh2,2))\r\n",
        "  dw2 = (1/m)*np.dot(dYh2,Yh1.T)\r\n",
        "  db2 = (1/m)*np.sum(dYh2, axis=1, keepdims=True)\r\n",
        "  dYh1 = np.multiply(np.dot(w2.T,dYh2),1-np.power(Yh1,2))\r\n",
        "  dw1 = (1/m)*np.dot(dYh1,X.T)\r\n",
        "  db1 = (1/m)*np.sum(dYh1, axis=1, keepdims=True)\r\n",
        "  \r\n",
        "  ##parameters\r\n",
        "  w4 = w4 - lr*dw4\r\n",
        "  b4 = b4 - lr*db4\r\n",
        "  w1 = w1 - lr*dw1\r\n",
        "  b1 = b1 - lr*db1\r\n",
        "  w2 = w2 - lr*dw2\r\n",
        "  b2 = b2 - lr*db2\r\n",
        "  w3 = w3 - lr*dw3\r\n",
        "  b3 = b3 - lr*db3\r\n",
        "  "
      ],
      "execution_count": 27,
      "outputs": []
    },
    {
      "cell_type": "code",
      "metadata": {
        "id": "hA61mYvH6t9s"
      },
      "source": [
        "def predict(X):\r\n",
        "  Yh1 = np.tanh(np.dot(w1,X)+b1)\r\n",
        "  Yh2 = np.tanh(np.dot(w2,Yh1)+b2)\r\n",
        "  Yh3 = np.tanh(np.dot(w3,Yh2)+b3)\r\n",
        "  A = sigmoid(np.dot(w4,Yh3)+b4)\r\n",
        "  return A"
      ],
      "execution_count": 28,
      "outputs": []
    },
    {
      "cell_type": "code",
      "metadata": {
        "colab": {
          "base_uri": "https://localhost:8080/"
        },
        "id": "noT73uQO612J",
        "outputId": "1accf4a3-aac8-4f33-ffb9-b05b2c0b5de9"
      },
      "source": [
        "predict(X)"
      ],
      "execution_count": 29,
      "outputs": [
        {
          "output_type": "execute_result",
          "data": {
            "text/plain": [
              "array([[0.00420573, 0.00429885, 0.00431644, 0.00433827, 0.99490648,\n",
              "        0.99590851, 0.99502745, 0.99503383, 0.99591017, 0.9959395 ,\n",
              "        0.00573526, 0.00576241]])"
            ]
          },
          "metadata": {
            "tags": []
          },
          "execution_count": 29
        }
      ]
    },
    {
      "cell_type": "code",
      "metadata": {
        "colab": {
          "base_uri": "https://localhost:8080/"
        },
        "id": "572lEajA63UA",
        "outputId": "e8785af5-0d87-4060-cc25-84e1c40552b1"
      },
      "source": [
        "Y"
      ],
      "execution_count": 23,
      "outputs": [
        {
          "output_type": "execute_result",
          "data": {
            "text/plain": [
              "array([[0, 0, 0, 0, 1, 1, 1, 1, 1, 1, 0, 0]])"
            ]
          },
          "metadata": {
            "tags": []
          },
          "execution_count": 23
        }
      ]
    },
    {
      "cell_type": "code",
      "metadata": {
        "colab": {
          "base_uri": "https://localhost:8080/",
          "height": 265
        },
        "id": "QQYE-2WU64wB",
        "outputId": "43bbeba1-ff88-48af-f7c5-7e9019b4f941"
      },
      "source": [
        "plt.plot(costs)\r\n",
        "plt.ylabel(\"cost\")\r\n",
        "plt.show()"
      ],
      "execution_count": 30,
      "outputs": [
        {
          "output_type": "display_data",
          "data": {
            "image/png": "[encoded data removed]",
            "text/plain": [
              "<Figure size 432x288 with 1 Axes>"
            ]
          },
          "metadata": {
            "tags": [],
            "needs_background": "light"
          }
        }
      ]
    },
    {
      "cell_type": "code",
      "metadata": {
        "id": "-F-jE3sg83n0"
      },
      "source": [
        ""
      ],
      "execution_count": null,
      "outputs": []
    }
  ]
}